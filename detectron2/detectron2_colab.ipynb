{
  "cells": [
    {
      "cell_type": "markdown",
      "metadata": {
        "id": "QHnVupBBn9eR"
      },
      "source": [
        "# Detectron2 Beginner's Tutorial\n",
        "Will only work inside Colab, not as standalone notebook\n",
        "\n",
        "<img src=\"https://dl.fbaipublicfiles.com/detectron2/Detectron2-Logo-Horz.png\" width=\"500\">\n",
        "\n",
        "Welcome to detectron2! This is the official colab tutorial of detectron2. Here, we will go through some basics usage of detectron2, including the following:\n",
        "* Run inference on images or videos, with an existing detectron2 model\n",
        "* Train a detectron2 model on a new dataset\n",
        "\n",
        "You can make a copy of this tutorial by \"File -> Open in playground mode\" and make changes there. __DO NOT__ request access to this tutorial.\n"
      ]
    },
    {
      "cell_type": "markdown",
      "metadata": {
        "id": "vM54r6jlKTII"
      },
      "source": [
        "# Install detectron2"
      ]
    },
    {
      "cell_type": "code",
      "execution_count": null,
      "metadata": {
        "id": "FsePPpwZSmqt"
      },
      "outputs": [],
      "source": [
        "!pip install pyyaml==5.1\n",
        "!pip install torch==1.10\n",
        "!pip install torchvision==0.11.1\n",
        "\n",
        "import torch\n",
        "TORCH_VERSION = \".\".join(torch.__version__.split(\".\")[:2])\n",
        "print(torch.__version__)\n",
        "CUDA_VERSION = torch.__version__.split(\"+\")[-1]\n",
        "print(\"torch: \", TORCH_VERSION, \"; cuda: \", CUDA_VERSION)\n",
        "# Install detectron2 that matches the above pytorch version\n",
        "# See https://detectron2.readthedocs.io/tutorials/install.html for instructions\n",
        "!pip install detectron2 -f https://dl.fbaipublicfiles.com/detectron2/wheels/$CUDA_VERSION/torch$TORCH_VERSION/index.html\n",
        "\n",
        "# If there is not yet a detectron2 release that matches the given torch + CUDA version, you need to install a different pytorch.\n",
        "\n",
        "# exit(0)  # After installation, you may need to \"restart runtime\" in Colab. This line can also restart runtime"
      ]
    },
    {
      "cell_type": "code",
      "execution_count": null,
      "metadata": {
        "id": "ZyAvNCJMmvFF"
      },
      "outputs": [],
      "source": [
        "# Some basic setup:\n",
        "# Setup detectron2 logger\n",
        "import detectron2\n",
        "from detectron2.utils.logger import setup_logger\n",
        "setup_logger()\n",
        "\n",
        "# import some common libraries\n",
        "import numpy as np\n",
        "import os, json, cv2, random\n",
        "from google.colab.patches import cv2_imshow\n",
        "\n",
        "# import some common detectron2 utilities\n",
        "from detectron2 import model_zoo\n",
        "from detectron2.engine import DefaultPredictor, DefaultTrainer\n",
        "from detectron2.config import get_cfg\n",
        "from detectron2.utils.visualizer import Visualizer\n",
        "from detectron2.data import MetadataCatalog, DatasetCatalog, DatasetMapper, build_detection_train_loader\n",
        "import detectron2.data.transforms as T"
      ]
    },
    {
      "cell_type": "markdown",
      "metadata": {
        "id": "b2bjrfb2LDeo"
      },
      "source": [
        "# Train on a custom dataset"
      ]
    },
    {
      "cell_type": "markdown",
      "metadata": {
        "id": "tjbUIhSxUdm_"
      },
      "source": [
        "## Prepare the dataset"
      ]
    },
    {
      "cell_type": "code",
      "execution_count": null,
      "metadata": {
        "id": "4Qg7zSVOulkb"
      },
      "outputs": [],
      "source": [
        "# download, decompress the data\n",
        "# !wget https://github.com/matterport/Mask_RCNN/releases/download/v2.1/balloon_dataset.zip\n",
        "# !unzip balloon_dataset.zip > /dev/null\n",
        "\n",
        "# Mount a Drive to be able to train on images uploaded on Drive\n",
        "# from google.colab import drive\n",
        "# drive.mount(\"/content/drive\")"
      ]
    },
    {
      "cell_type": "code",
      "execution_count": null,
      "metadata": {
        "id": "iLcmqbEqXzG8"
      },
      "outputs": [],
      "source": [
        "import zipfile\n",
        "import os\n",
        "\n",
        "!wget --no-check-certificate \\\n",
        "https://github.com/OscStal/parts_and_ros/archive/refs/heads/main.zip \\\n",
        "-O \"/tmp/volvo_parts.zip\"\n",
        "\n",
        "zip_ref = zipfile.ZipFile('/tmp/volvo_parts.zip', 'r') #Opens the zip file in read mode\n",
        "zip_ref.extractall('/content') #Extracts the files into the /tmp folder\n",
        "zip_ref.close()\n",
        "\n",
        "# Rename unzipped github folder to just \"github\", next cell relies on this\n",
        "unzipped_repo_path = \"/content/parts_and_ros-main/\"\n",
        "repo_folder = \"/content/github\"\n",
        "os.rename(unzipped_repo_path, repo_folder)"
      ]
    },
    {
      "cell_type": "code",
      "execution_count": null,
      "metadata": {
        "id": "PIbAM2pv-urF"
      },
      "outputs": [],
      "source": [
        "from detectron2.data.datasets import register_coco_instances\n",
        "# if your dataset is in COCO format, this cell can be replaced by the following three lines:\n",
        "# Specify your path to images files and json file\n",
        "#register_coco_instances(\"my_dataset_train\", {}, \"/content/drive/MyDrive/datasets/all/a_train.json\", \"/content/drive/MyDrive/datasets/all\")\n",
        "#register_coco_instances(\"my_dataset_val\", {}, \"/content/drive/MyDrive/datasets/validate/val.json\", \"/content/drive/MyDrive/datasets/validate\")\n",
        "\n",
        "train_data_location = os.path.join(repo_folder, \"datasets/sample/imgs/all\")\n",
        "test_data_location = os.path.join(repo_folder, \"datasets/sample/imgs/validate\")\n",
        "\n",
        "register_coco_instances(\"my_dataset_train\", {}, os.path.join(train_data_location, \"a_train.json\"), train_data_location)\n",
        "register_coco_instances(\"my_dataset_val\", {}, os.path.join(test_data_location, \"val.json\"), test_data_location)\n",
        "\n",
        "# Metadata for training dataset\n",
        "custom_metadata = MetadataCatalog.get(\"my_dataset_train\")"
      ]
    },
    {
      "cell_type": "markdown",
      "metadata": {
        "id": "6ljbWTX0Wi8E"
      },
      "source": [
        "To verify the data loading is correct, let's visualize the annotations of randomly selected samples in the training set:\n",
        "\n"
      ]
    },
    {
      "cell_type": "code",
      "execution_count": null,
      "metadata": {
        "id": "UkNbUzUOLYf0"
      },
      "outputs": [],
      "source": [
        "dataset_dicts = DatasetCatalog.get(\"my_dataset_train\")\n",
        "print(dataset_dicts)\n",
        "for d in random.sample(dataset_dicts, 3):\n",
        "    img = cv2.imread(d[\"file_name\"])\n",
        "    visualizer = Visualizer(img[:, :, ::-1], metadata=custom_metadata, scale=0.5)\n",
        "    out = visualizer.draw_dataset_dict(d)\n",
        "    cv2_imshow(out.get_image()[:, :, ::-1])"
      ]
    },
    {
      "cell_type": "markdown",
      "metadata": {
        "id": "wlqXIXXhW8dA"
      },
      "source": [
        "## Train!\n",
        "\n",
        "Now, let's fine-tune a COCO-pretrained R50-FPN Mask R-CNN model on the balloon dataset. It takes ~2 minutes to train 300 iterations on a P100 GPU.\n"
      ]
    },
    {
      "cell_type": "markdown",
      "metadata": {
        "id": "kHRI1cIrimXY"
      },
      "source": [
        "Custom Trainer for Data Augmentations"
      ]
    },
    {
      "cell_type": "code",
      "execution_count": null,
      "metadata": {
        "id": "g5836DwjimIw"
      },
      "outputs": [],
      "source": [
        "from detectron2.data.transforms.augmentation_impl import Resize\n",
        "\n",
        "class CustomTrainer(DefaultTrainer):\n",
        "\n",
        "  @classmethod\n",
        "  def build_train_loader(cls, cfg):\n",
        "    return build_detection_train_loader(cfg, mapper=DatasetMapper(cfg, is_train=True, augmentations=[\n",
        "      T.Resize((1000, 1000)),\n",
        "   ]))\n",
        "    \n",
        "  @classmethod  \n",
        "  def build_test_loader(cls, cfg):\n",
        "    return build_detection_train_loader(cfg, mapper=DatasetMapper(cfg, is_train=False, augmentations=[\n",
        "      \n",
        "    ]))"
      ]
    },
    {
      "cell_type": "markdown",
      "metadata": {
        "id": "lCti61cFjw-Z"
      },
      "source": [
        "Setup the Config"
      ]
    },
    {
      "cell_type": "code",
      "execution_count": null,
      "metadata": {
        "id": "7unkuuiqLdqd"
      },
      "outputs": [],
      "source": [
        "from torch.cuda import empty_cache\n",
        "\n",
        "MODELS = [\n",
        "          \"COCO-InstanceSegmentation/mask_rcnn_R_50_C4_3x.yaml\",\n",
        "          \"COCO-InstanceSegmentation/mask_rcnn_R_50_DC5_3x.yaml\",\n",
        "          \"COCO-InstanceSegmentation/mask_rcnn_R_50_FPN_3x.yaml\",\n",
        "          \"COCO-InstanceSegmentation/mask_rcnn_R_101_C4_3x.yaml\",\n",
        "          \"COCO-InstanceSegmentation/mask_rcnn_R_101_DC5_3x.yaml\",\n",
        "          \"COCO-InstanceSegmentation/mask_rcnn_R_101_FPN_3x.yaml\",\n",
        "          \"COCO-InstanceSegmentation/mask_rcnn_X_101_32x8d_FPN_3x.yaml\"\n",
        "]\n",
        "ACTIVE_MODEL_INDEX = 4\n",
        "\n",
        "cfg = get_cfg()\n",
        "cfg.merge_from_file(model_zoo.get_config_file(MODELS[ACTIVE_MODEL_INDEX]))\n",
        "cfg.DATASETS.TRAIN = (\"my_dataset_train\",)\n",
        "# cfg.DATASETS.TEST = (\"my_dataset_val\", )  # If mid-training validation is wanted\n",
        "cfg.DATASETS.TEST = ()\n",
        "cfg.DATALOADER.NUM_WORKERS = 2\n",
        "cfg.MODEL.WEIGHTS = model_zoo.get_checkpoint_url(MODELS[ACTIVE_MODEL_INDEX])  # Let training initialize from model zoo\n",
        "cfg.SOLVER.IMS_PER_BATCH = 2\n",
        "cfg.SOLVER.BASE_LR = 0.001  # pick a good LR\n",
        "cfg.SOLVER.MAX_ITER = 1500    # 300 iterations seems good enough for this toy dataset; you will need to train longer for a practical dataset\n",
        "cfg.SOLVER.STEPS = []        # do not decay learning rate\n",
        "cfg.MODEL.ROI_HEADS.BATCH_SIZE_PER_IMAGE = 512   # faster, and good enough for this toy dataset (default: 512)\n",
        "cfg.MODEL.ROI_HEADS.NUM_CLASSES = 1\n",
        "# cfg.TEST.EVAL_PERIOD = 50"
      ]
    },
    {
      "cell_type": "markdown",
      "metadata": {
        "id": "bEAR-g4IuLBg"
      },
      "source": [
        "Run the Training normally"
      ]
    },
    {
      "cell_type": "code",
      "execution_count": null,
      "metadata": {
        "id": "D9dqEWjZuEfM"
      },
      "outputs": [],
      "source": [
        "os.makedirs(cfg.OUTPUT_DIR, exist_ok=True)\n",
        "trainer = CustomTrainer(cfg)\n",
        "# empty_cache()\n",
        "trainer.resume_or_load(resume=False)\n",
        "trainer.train()"
      ]
    },
    {
      "cell_type": "markdown",
      "metadata": {
        "id": "7s2afwKk4Bvo"
      },
      "source": [
        "Test writing JSON-file to Drive"
      ]
    },
    {
      "cell_type": "code",
      "execution_count": null,
      "metadata": {
        "id": "zUm-PVpv24GC"
      },
      "outputs": [],
      "source": [
        "from google.colab import drive, files\n",
        "import json\n",
        "drive.mount(\"/content/drive\", force_remount=True)\n",
        "\n",
        "out_file = \"test.json\"\n",
        "drive_file = f\"/content/drive/MyDrive/{out_file}\"\n",
        "metric_dict = {\"test\": \"test\"}\n",
        "with open(drive_file, \"w+\") as out:\n",
        "  json.dump(metric_dict, out, indent=4)"
      ]
    },
    {
      "cell_type": "code",
      "execution_count": null,
      "metadata": {
        "colab": {
          "base_uri": "https://localhost:8080/"
        },
        "id": "XVeA8-S0lzUW",
        "outputId": "0e9503a3-dd2f-48c1-b31d-f9818908537b"
      },
      "outputs": [
        {
          "name": "stdout",
          "output_type": "stream",
          "text": [
            "Mounted at /content/drive\n"
          ]
        }
      ],
      "source": [
        "from google.colab import drive\n",
        "import shutil\n",
        "drive.mount(\"/content/drive\", force_remount=True)\n",
        "# shutil.move(\"output/model_final.pth\", \"drive/MyDrive/model_final_final.pth\")"
      ]
    },
    {
      "cell_type": "markdown",
      "metadata": {
        "id": "GmNffsCJ320a"
      },
      "source": [
        "Run training, automated to test config parameters"
      ]
    },
    {
      "cell_type": "code",
      "execution_count": null,
      "metadata": {
        "id": "szUjiiDC32Vz"
      },
      "outputs": [],
      "source": [
        "from detectron2.evaluation import COCOEvaluator, inference_on_dataset\n",
        "from detectron2.data import build_detection_test_loader\n",
        "\n",
        "from google.colab import drive, files\n",
        "drive.mount(\"/content/drive\")\n",
        "\n",
        "# In order as listed below\n",
        "DEFAULTS = [2, 2, 0.00025, 500, 64]\n",
        "\n",
        "# List of values to test for config parameters NUM_WORKERS, IMS_PER_BATCH, LR, MAX_ITERS and BATCH_SIZE_PER_IMAGE\n",
        "# Chosen randomly, might manually test more if these are not deemed enough\n",
        "NWS = [1, 2, 3, 4, 5, 6, 7, 8, 9, 10]\n",
        "IPBS = [1, 2, 3, 4, 5, 6, 7, 8]\n",
        "LRS = [0.00001, 0.00005, 0.0001, 0.00015, 0.0002, 0.00025, 0.0003, 0.0005, 0.0006, 0.001, 0.002]\n",
        "MAXITERS = [500, 1000, 1500, 2000, 2500, 3000]\n",
        "BSPIS = [32, 64, 128, 256, 512, 1024]\n",
        "\n",
        "metric_dict = dict()\n",
        "os.makedirs(cfg.OUTPUT_DIR, exist_ok=True)\n",
        "out_file = \"output_dict_numworkers_2.json\"\n",
        "dict_title = \"NUM_WORKERS:\"\n",
        "drive_file = f\"/content/drive/MyDrive/{out_file}\"\n",
        "\n",
        "for val in [9, 10]:\n",
        "  cfg.MODEL.WEIGHTS = model_zoo.get_checkpoint_url(MODELS[ACTIVE_MODEL_INDEX])\n",
        "  cfg.DATALOADER.NUM_WORKERS = val\n",
        "  trainer = CustomTrainer(cfg)\n",
        "  trainer.resume_or_load(resume=False)\n",
        "  print(val)\n",
        "  trainer.train()\n",
        "\n",
        "  cfg.MODEL.WEIGHTS = os.path.join(cfg.OUTPUT_DIR, \"model_final.pth\")  # path to the model we just trained\n",
        "  cfg.MODEL.ROI_HEADS.SCORE_THRESH_TEST = 0.7   # set a custom testing threshold\n",
        "  predictor = DefaultPredictor(cfg)\n",
        "\n",
        "  evaluator = COCOEvaluator(\"my_dataset_val\", output_dir=\"./output\")\n",
        "  val_loader = build_detection_test_loader(cfg, \"my_dataset_val\", mapper=DatasetMapper(cfg, is_train=False, augmentations=[T.Resize((1000, 1000)),]))\n",
        "  res = inference_on_dataset(predictor.model, val_loader, evaluator)\n",
        "\n",
        "  metric_dict[f\"{dict_title}: {val}\"] = res # TODO: save only the APs that are required, not entire \"res\"\n",
        "\n",
        "  with open(out_file, \"w+\") as out:\n",
        "    json.dump(metric_dict, out, indent=4)\n",
        "  with open(drive_file, \"w+\") as out:\n",
        "    json.dump(metric_dict, out, indent=4)\n",
        "\n",
        "# files.download(out_file)\n",
        "\n",
        "\n",
        "\"\"\"\n",
        "Config used for the different parameter tests:\n",
        "NUM_WORKERS:              IMS_PER_BATCH = 2, MAX_ITERS = 500, LR = 0.00025, BATCH_SIZE_PER_IMAGE = 64;    Training augs: Resize(1000,1000), Testing augs: Resize(1000,1000)\n",
        "IMS_PER_BATCH:            NUM_WORKERS = 2, MAX_ITERS = 500, LR = 0.00025, BATCH_SIZE_PER_IMAGE = 64;      Training augs: Resize(1000,1000), Testing augs: Resize(1000,1000)\n",
        "LR:                       NUM_WORKERS = 2, IMS_PER_BATCH = 2 MAX_ITERS = 500, BATCH_SIZE_PER_IMAGE = 64;  Training augs: Resize(1000,1000), Testing augs: Resize(1000,1000)\n",
        "MAX_ITERS:                NUM_WORKERS = 2, IMS_PER_BATCH = 2 LR = 0.00025, BATCH_SIZE_PER_IMAGE = 64;     Training augs: Resize(1000,1000), Testing augs: Resize(1000,1000)\n",
        "BATCH_SIZE_PER_IMAGE:     NUM_WORKERS = 2, IMS_PER_BATCH = 2 LR = 0.00025, MAX_ITERS = 500;               Training augs: Resize(1000,1000), Testing augs: Resize(1000,1000)\n",
        "\"\"\"\n"
      ]
    },
    {
      "cell_type": "code",
      "execution_count": null,
      "metadata": {
        "id": "hBXeH8UXFcqU"
      },
      "outputs": [],
      "source": [
        "# Look at training curves in tensorboard:\n",
        "%load_ext tensorboard\n",
        "%tensorboard --logdir /content/output"
      ]
    },
    {
      "cell_type": "markdown",
      "metadata": {
        "id": "0e4vdDIOXyxF"
      },
      "source": [
        "## Inference & evaluation using the trained model\n",
        "Now, let's run inference with the trained model on the balloon validation dataset. First, let's create a predictor using the model we just trained:\n",
        "\n"
      ]
    },
    {
      "cell_type": "code",
      "execution_count": null,
      "metadata": {
        "id": "Ya5nEuMELeq8"
      },
      "outputs": [],
      "source": [
        "# Inference should use the config with parameters that are used in training\n",
        "# cfg now already contains everything we've set previously. We changed it a little bit for inference:\n",
        "# cfg.MODEL.WEIGHTS = os.path.join(cfg.OUTPUT_DIR, \"model_final.pth\")  # path to the model we just trained\n",
        "cfg.MODEL.WEIGHTS = os.path.join(\"/content/drive/MyDrive/model_final_final.pth\")  # path to the model we just trained\n",
        "cfg.MODEL.ROI_HEADS.SCORE_THRESH_TEST = 0.3  # set a custom testing threshold\n",
        "predictor = DefaultPredictor(cfg)"
      ]
    },
    {
      "cell_type": "markdown",
      "metadata": {
        "id": "qWq1XHfDWiXO"
      },
      "source": [
        "Then, we randomly select several samples to visualize the prediction results."
      ]
    },
    {
      "cell_type": "code",
      "execution_count": null,
      "metadata": {
        "id": "U5LhISJqWXgM"
      },
      "outputs": [],
      "source": [
        "from detectron2.utils.visualizer import ColorMode\n",
        "dataset_dicts = DatasetCatalog.get(\"my_dataset_val\")\n",
        "for d in random.sample(dataset_dicts, 3):    \n",
        "    im = cv2.imread(d[\"file_name\"])\n",
        "    outputs = predictor(im)  # format is documented at https://detectron2.readthedocs.io/tutorials/models.html#model-output-format\n",
        "    v = Visualizer(im[:, :, ::-1],\n",
        "                   metadata=custom_metadata, \n",
        "                   scale=0.5, \n",
        "                   instance_mode=ColorMode.SEGMENTATION   # remove the colors of unsegmented pixels. This option is only available for segmentation models\n",
        "    )\n",
        "    out = v.draw_instance_predictions(outputs[\"instances\"].to(\"cpu\"))\n",
        "    cv2_imshow(out.get_image()[:, :, ::-1])"
      ]
    },
    {
      "cell_type": "markdown",
      "metadata": {
        "id": "kblA1IyFvWbT"
      },
      "source": [
        "We can also evaluate its performance using AP metric implemented in COCO API."
      ]
    },
    {
      "cell_type": "code",
      "execution_count": null,
      "metadata": {
        "id": "h9tECBQCvMv3"
      },
      "outputs": [],
      "source": [
        "from detectron2.evaluation import COCOEvaluator, inference_on_dataset\n",
        "from detectron2.data import build_detection_test_loader\n",
        "evaluator = COCOEvaluator(\"my_dataset_val\", output_dir=\"./output\")\n",
        "val_loader = build_detection_test_loader(cfg, \"my_dataset_val\", mapper=DatasetMapper(cfg, is_train=False, augmentations=[T.Resize((1000, 1000)),]))\n",
        "res = inference_on_dataset(predictor.model, val_loader, evaluator)\n",
        "print(res)\n",
        "# another equivalent way to evaluate the model is to use `trainer.test`"
      ]
    }
  ],
  "metadata": {
    "accelerator": "GPU",
    "colab": {
      "collapsed_sections": [],
      "name": "detectron2",
      "provenance": []
    },
    "kernelspec": {
      "display_name": "Python 3",
      "name": "python3"
    },
    "language_info": {
      "name": "python"
    }
  },
  "nbformat": 4,
  "nbformat_minor": 0
}
